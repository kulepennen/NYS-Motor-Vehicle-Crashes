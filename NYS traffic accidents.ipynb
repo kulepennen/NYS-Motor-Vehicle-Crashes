{
 "cells": [
  {
   "cell_type": "markdown",
   "metadata": {},
   "source": [
    "# NYS-Motor-Vehicle-Crashes\n",
    "\n",
    "A small Udacity student project looking at vehicle crash data for the state of New York"
   ]
  },
  {
   "cell_type": "code",
   "execution_count": 917,
   "metadata": {},
   "outputs": [],
   "source": [
    "import pandas as pd\n",
    "import numpy as np\n",
    "import matplotlib.pyplot as plt\n",
    "\n"
   ]
  },
  {
   "cell_type": "code",
   "execution_count": 918,
   "metadata": {},
   "outputs": [],
   "source": [
    "%matplotlib inline\n"
   ]
  },
  {
   "cell_type": "markdown",
   "metadata": {},
   "source": [
    "### About the dataset:\n",
    "- The dataset consist of 1.65 million rows accross 19 columns. The columns describe traffic accidents, one per row, taking place in the state of New York. The dataset is hosted by the State of New York through an open data platform here: https://data.ny.gov/ This dataset in particular was found on the Kaggle-website.\n",
    "\n",
    "Data, column descriptions as well as a general description of the dataset can be found here:\n",
    "https://www.kaggle.com/new-york-state/nys-motor-vehicle-crashes-and-insurance-reduction\n",
    "\n"
   ]
  },
  {
   "cell_type": "markdown",
   "metadata": {},
   "source": [
    "# Business questions\n",
    "\n",
    "This dataset holds interesting data about accidents in the State of New York, and I'd like to focus on what we can find by using data about \"Vehicle Makes\" and \"Action prior to Accident\".\n",
    "\n",
    "Questions:\n",
    "- Whats the most common \"Action prior to accident\"?\n",
    "- Can we say anything about car make and accidents happening after Police Pursuits?\n",
    "- Can we find any support for the rumors about BMW drivers not using blinkers?\n",
    "- Do these data from the State of New York have the necessary quality to be used for analysis of traffic accidents?\n"
   ]
  },
  {
   "cell_type": "markdown",
   "metadata": {},
   "source": [
    "# Gather data"
   ]
  },
  {
   "cell_type": "code",
   "execution_count": 919,
   "metadata": {},
   "outputs": [
    {
     "data": {
      "text/html": [
       "<div>\n",
       "<style scoped>\n",
       "    .dataframe tbody tr th:only-of-type {\n",
       "        vertical-align: middle;\n",
       "    }\n",
       "\n",
       "    .dataframe tbody tr th {\n",
       "        vertical-align: top;\n",
       "    }\n",
       "\n",
       "    .dataframe thead th {\n",
       "        text-align: right;\n",
       "    }\n",
       "</style>\n",
       "<table border=\"1\" class=\"dataframe\">\n",
       "  <thead>\n",
       "    <tr style=\"text-align: right;\">\n",
       "      <th></th>\n",
       "      <th>Year</th>\n",
       "      <th>Case Vehicle ID</th>\n",
       "      <th>Vehicle Body Type</th>\n",
       "      <th>Registration Class</th>\n",
       "      <th>Action Prior to Accident</th>\n",
       "      <th>Type / Axles of Truck or Bus</th>\n",
       "      <th>Direction of Travel</th>\n",
       "      <th>Fuel Type</th>\n",
       "      <th>Vehicle Year</th>\n",
       "      <th>State of Registration</th>\n",
       "      <th>Number of Occupants</th>\n",
       "      <th>Engine Cylinders</th>\n",
       "      <th>Vehicle Make</th>\n",
       "      <th>Contributing Factor 1</th>\n",
       "      <th>Contributing Factor 1 Description</th>\n",
       "      <th>Contributing Factor 2</th>\n",
       "      <th>Contributing Factor 2 Description</th>\n",
       "      <th>Event Type</th>\n",
       "      <th>Partial VIN</th>\n",
       "    </tr>\n",
       "  </thead>\n",
       "  <tbody>\n",
       "    <tr>\n",
       "      <th>0</th>\n",
       "      <td>2016</td>\n",
       "      <td>13364291</td>\n",
       "      <td>SUBURBAN</td>\n",
       "      <td>PASSENGER OR SUBURBAN</td>\n",
       "      <td>Changing Lanes</td>\n",
       "      <td>Not Entered</td>\n",
       "      <td>West</td>\n",
       "      <td>Gas</td>\n",
       "      <td>2012.0</td>\n",
       "      <td>NY</td>\n",
       "      <td>1.0</td>\n",
       "      <td>4.0</td>\n",
       "      <td>MINI</td>\n",
       "      <td>HUMAN</td>\n",
       "      <td>Unsafe Lane Changing</td>\n",
       "      <td>HUMAN</td>\n",
       "      <td>Not Applicable</td>\n",
       "      <td>Not Applicable</td>\n",
       "      <td>WMWZC3C57CWL81108</td>\n",
       "    </tr>\n",
       "    <tr>\n",
       "      <th>1</th>\n",
       "      <td>2016</td>\n",
       "      <td>13364304</td>\n",
       "      <td>PICKUP TRUCK</td>\n",
       "      <td>PASSENGER OR SUBURBAN</td>\n",
       "      <td>Going Straight Ahead</td>\n",
       "      <td>Not Entered</td>\n",
       "      <td>East</td>\n",
       "      <td>Gas</td>\n",
       "      <td>2014.0</td>\n",
       "      <td>NY</td>\n",
       "      <td>2.0</td>\n",
       "      <td>6.0</td>\n",
       "      <td>CHEVR</td>\n",
       "      <td>ENVMT</td>\n",
       "      <td>Pavement Slippery</td>\n",
       "      <td>HUMAN</td>\n",
       "      <td>Not Applicable</td>\n",
       "      <td>Not Applicable</td>\n",
       "      <td>3GCUKREH8EG196335</td>\n",
       "    </tr>\n",
       "    <tr>\n",
       "      <th>2</th>\n",
       "      <td>2016</td>\n",
       "      <td>13364305</td>\n",
       "      <td>4 DOOR SEDAN</td>\n",
       "      <td>PASSENGER OR SUBURBAN</td>\n",
       "      <td>Going Straight Ahead</td>\n",
       "      <td>Not Entered</td>\n",
       "      <td>North</td>\n",
       "      <td>Gas</td>\n",
       "      <td>2007.0</td>\n",
       "      <td>NY</td>\n",
       "      <td>1.0</td>\n",
       "      <td>4.0</td>\n",
       "      <td>HONDA</td>\n",
       "      <td>ENVMT</td>\n",
       "      <td>Pavement Slippery</td>\n",
       "      <td>HUMAN</td>\n",
       "      <td>Not Applicable</td>\n",
       "      <td>Not Applicable</td>\n",
       "      <td>1HGCM56387A220086</td>\n",
       "    </tr>\n",
       "    <tr>\n",
       "      <th>3</th>\n",
       "      <td>2016</td>\n",
       "      <td>13364307</td>\n",
       "      <td>SUBURBAN</td>\n",
       "      <td>PASSENGER OR SUBURBAN</td>\n",
       "      <td>Going Straight Ahead</td>\n",
       "      <td>Not Entered</td>\n",
       "      <td>North</td>\n",
       "      <td>Gas</td>\n",
       "      <td>2011.0</td>\n",
       "      <td>NY</td>\n",
       "      <td>4.0</td>\n",
       "      <td>4.0</td>\n",
       "      <td>CHEVR</td>\n",
       "      <td>ENVMT</td>\n",
       "      <td>Pavement Slippery</td>\n",
       "      <td>ENVMT</td>\n",
       "      <td>Obstruction/ Debris</td>\n",
       "      <td>Unknown</td>\n",
       "      <td>2CNFLCEC1B6362978</td>\n",
       "    </tr>\n",
       "    <tr>\n",
       "      <th>4</th>\n",
       "      <td>2016</td>\n",
       "      <td>13364306</td>\n",
       "      <td>SUBURBAN</td>\n",
       "      <td>PASSENGER OR SUBURBAN</td>\n",
       "      <td>Going Straight Ahead</td>\n",
       "      <td>Not Entered</td>\n",
       "      <td>North</td>\n",
       "      <td>Gas</td>\n",
       "      <td>2004.0</td>\n",
       "      <td>NY</td>\n",
       "      <td>1.0</td>\n",
       "      <td>6.0</td>\n",
       "      <td>BUICK</td>\n",
       "      <td>ENVMT</td>\n",
       "      <td>Pavement Slippery</td>\n",
       "      <td>HUMAN</td>\n",
       "      <td>Not Applicable</td>\n",
       "      <td>Snow Embankment, Collision With Fixed Object</td>\n",
       "      <td>3G5DA03E04S597761</td>\n",
       "    </tr>\n",
       "  </tbody>\n",
       "</table>\n",
       "</div>"
      ],
      "text/plain": [
       "   Year  Case Vehicle ID Vehicle Body Type     Registration Class  \\\n",
       "0  2016         13364291          SUBURBAN  PASSENGER OR SUBURBAN   \n",
       "1  2016         13364304      PICKUP TRUCK  PASSENGER OR SUBURBAN   \n",
       "2  2016         13364305      4 DOOR SEDAN  PASSENGER OR SUBURBAN   \n",
       "3  2016         13364307          SUBURBAN  PASSENGER OR SUBURBAN   \n",
       "4  2016         13364306          SUBURBAN  PASSENGER OR SUBURBAN   \n",
       "\n",
       "  Action Prior to Accident Type / Axles of Truck or Bus Direction of Travel  \\\n",
       "0           Changing Lanes                  Not Entered                West   \n",
       "1     Going Straight Ahead                  Not Entered                East   \n",
       "2     Going Straight Ahead                  Not Entered               North   \n",
       "3     Going Straight Ahead                  Not Entered               North   \n",
       "4     Going Straight Ahead                  Not Entered               North   \n",
       "\n",
       "  Fuel Type  Vehicle Year State of Registration  Number of Occupants  \\\n",
       "0       Gas        2012.0                    NY                  1.0   \n",
       "1       Gas        2014.0                    NY                  2.0   \n",
       "2       Gas        2007.0                    NY                  1.0   \n",
       "3       Gas        2011.0                    NY                  4.0   \n",
       "4       Gas        2004.0                    NY                  1.0   \n",
       "\n",
       "   Engine Cylinders Vehicle Make Contributing Factor 1  \\\n",
       "0               4.0         MINI                 HUMAN   \n",
       "1               6.0        CHEVR                 ENVMT   \n",
       "2               4.0        HONDA                 ENVMT   \n",
       "3               4.0        CHEVR                 ENVMT   \n",
       "4               6.0        BUICK                 ENVMT   \n",
       "\n",
       "  Contributing Factor 1 Description Contributing Factor 2  \\\n",
       "0              Unsafe Lane Changing                 HUMAN   \n",
       "1                 Pavement Slippery                 HUMAN   \n",
       "2                 Pavement Slippery                 HUMAN   \n",
       "3                 Pavement Slippery                 ENVMT   \n",
       "4                 Pavement Slippery                 HUMAN   \n",
       "\n",
       "  Contributing Factor 2 Description  \\\n",
       "0                    Not Applicable   \n",
       "1                    Not Applicable   \n",
       "2                    Not Applicable   \n",
       "3               Obstruction/ Debris   \n",
       "4                    Not Applicable   \n",
       "\n",
       "                                     Event Type        Partial VIN  \n",
       "0                                Not Applicable  WMWZC3C57CWL81108  \n",
       "1                                Not Applicable  3GCUKREH8EG196335  \n",
       "2                                Not Applicable  1HGCM56387A220086  \n",
       "3                                       Unknown  2CNFLCEC1B6362978  \n",
       "4  Snow Embankment, Collision With Fixed Object  3G5DA03E04S597761  "
      ]
     },
     "execution_count": 919,
     "metadata": {},
     "output_type": "execute_result"
    }
   ],
   "source": [
    "\n",
    "df = pd.read_csv('./motor-vehicle-crashes-vehicle-information-three-year-window.csv')\n",
    "df.head()"
   ]
  },
  {
   "cell_type": "markdown",
   "metadata": {},
   "source": [
    "# Assess the data\n",
    "\n"
   ]
  },
  {
   "cell_type": "code",
   "execution_count": 920,
   "metadata": {},
   "outputs": [
    {
     "name": "stdout",
     "output_type": "stream",
     "text": [
      "(1654482, 19)\n"
     ]
    }
   ],
   "source": [
    "print(df.shape)"
   ]
  },
  {
   "cell_type": "code",
   "execution_count": 921,
   "metadata": {},
   "outputs": [
    {
     "name": "stdout",
     "output_type": "stream",
     "text": [
      "<class 'pandas.core.frame.DataFrame'>\n",
      "RangeIndex: 1654482 entries, 0 to 1654481\n",
      "Data columns (total 19 columns):\n",
      "Year                                 1654482 non-null int64\n",
      "Case Vehicle ID                      1654482 non-null int64\n",
      "Vehicle Body Type                    1654482 non-null object\n",
      "Registration Class                   1654482 non-null object\n",
      "Action Prior to Accident             1654482 non-null object\n",
      "Type / Axles of Truck or Bus         1654482 non-null object\n",
      "Direction of Travel                  1654482 non-null object\n",
      "Fuel Type                            1654482 non-null object\n",
      "Vehicle Year                         1395981 non-null float64\n",
      "State of Registration                1518575 non-null object\n",
      "Number of Occupants                  1462721 non-null float64\n",
      "Engine Cylinders                     1308677 non-null float64\n",
      "Vehicle Make                         1397370 non-null object\n",
      "Contributing Factor 1                1654453 non-null object\n",
      "Contributing Factor 1 Description    1654453 non-null object\n",
      "Contributing Factor 2                1654454 non-null object\n",
      "Contributing Factor 2 Description    1654454 non-null object\n",
      "Event Type                           1623046 non-null object\n",
      "Partial VIN                          1356387 non-null object\n",
      "dtypes: float64(3), int64(2), object(14)\n",
      "memory usage: 239.8+ MB\n"
     ]
    }
   ],
   "source": [
    "df.info()"
   ]
  },
  {
   "cell_type": "code",
   "execution_count": 922,
   "metadata": {},
   "outputs": [
    {
     "data": {
      "image/png": "[encoded data removed]",
      "text/plain": [
       "<Figure size 1224x720 with 6 Axes>"
      ]
     },
     "metadata": {},
     "output_type": "display_data"
    }
   ],
   "source": [
    "df.hist(figsize=(17,10));"
   ]
  },
  {
   "cell_type": "markdown",
   "metadata": {},
   "source": [
    "### Comments\n",
    "From the above, we see that there are just a few nummerical columns.\n",
    "\n",
    "**TODO:** \n",
    "* Column \"Case Vehicle ID\" can be dropped as it is a reference we cannot use for interpretation.\n",
    "* Column \"Partial VIN\" can be dropped as it has a random nature and cannot be used for interpretation"
   ]
  },
  {
   "cell_type": "code",
   "execution_count": 923,
   "metadata": {},
   "outputs": [
    {
     "data": {
      "text/plain": [
       "Year                                       3\n",
       "Case Vehicle ID                      1654468\n",
       "Vehicle Body Type                         65\n",
       "Registration Class                        70\n",
       "Action Prior to Accident                  22\n",
       "Type / Axles of Truck or Bus              23\n",
       "Direction of Travel                       11\n",
       "Fuel Type                                 10\n",
       "Vehicle Year                             104\n",
       "State of Registration                     82\n",
       "Number of Occupants                       76\n",
       "Engine Cylinders                          16\n",
       "Vehicle Make                            2095\n",
       "Contributing Factor 1                      3\n",
       "Contributing Factor 1 Description         57\n",
       "Contributing Factor 2                      3\n",
       "Contributing Factor 2 Description         57\n",
       "Event Type                                35\n",
       "Partial VIN                          1266553\n",
       "dtype: int64"
      ]
     },
     "execution_count": 923,
     "metadata": {},
     "output_type": "execute_result"
    }
   ],
   "source": [
    "df.nunique()"
   ]
  },
  {
   "cell_type": "markdown",
   "metadata": {},
   "source": [
    "### Comments\n",
    "Most of the columns in this dataset are categorical columns\n"
   ]
  },
  {
   "cell_type": "code",
   "execution_count": 924,
   "metadata": {},
   "outputs": [
    {
     "data": {
      "text/plain": [
       "Year                                      0\n",
       "Case Vehicle ID                           0\n",
       "Vehicle Body Type                         0\n",
       "Registration Class                        0\n",
       "Action Prior to Accident                  0\n",
       "Type / Axles of Truck or Bus              0\n",
       "Direction of Travel                       0\n",
       "Fuel Type                                 0\n",
       "Vehicle Year                         258501\n",
       "State of Registration                135907\n",
       "Number of Occupants                  191761\n",
       "Engine Cylinders                     345805\n",
       "Vehicle Make                         257112\n",
       "Contributing Factor 1                    29\n",
       "Contributing Factor 1 Description        29\n",
       "Contributing Factor 2                    28\n",
       "Contributing Factor 2 Description        28\n",
       "Event Type                            31436\n",
       "Partial VIN                          298095\n",
       "dtype: int64"
      ]
     },
     "execution_count": 924,
     "metadata": {},
     "output_type": "execute_result"
    }
   ],
   "source": [
    "# Evaluating NaN values in the different columns\n",
    "df.isnull().sum()"
   ]
  },
  {
   "cell_type": "markdown",
   "metadata": {},
   "source": [
    "### Comments\n",
    "There are quite a few rows witn NaN-data in, but before removing these, we should decide if there are more columns that we can drop.\n",
    "\n",
    "**TODO:**\n",
    "* Column \"Engine Cylinders\" can be dropped as it has a lot of NaN rows and also we do not see any use for this data just now.\n",
    "* Column \"Fuel Type\" can be dropped as we do not see any use of these now\n"
   ]
  },
  {
   "cell_type": "code",
   "execution_count": 925,
   "metadata": {},
   "outputs": [
    {
     "name": "stdout",
     "output_type": "stream",
     "text": [
      "Pct of columns with Event Types -Not Applicable- is: 52.99%\n",
      "Pct of columns with Event Types -Not Entered- is: 35.55%\n",
      "Pct of columns with Event Types NaN is: 1.9%\n",
      "Pct of columns with an Event Type recorded: 9.56%\n"
     ]
    },
    {
     "data": {
      "text/html": [
       "<div>\n",
       "<style scoped>\n",
       "    .dataframe tbody tr th:only-of-type {\n",
       "        vertical-align: middle;\n",
       "    }\n",
       "\n",
       "    .dataframe tbody tr th {\n",
       "        vertical-align: top;\n",
       "    }\n",
       "\n",
       "    .dataframe thead th {\n",
       "        text-align: right;\n",
       "    }\n",
       "</style>\n",
       "<table border=\"1\" class=\"dataframe\">\n",
       "  <thead>\n",
       "    <tr style=\"text-align: right;\">\n",
       "      <th></th>\n",
       "      <th>Event Type</th>\n",
       "      <th>Count</th>\n",
       "      <th>percentage</th>\n",
       "    </tr>\n",
       "  </thead>\n",
       "  <tbody>\n",
       "    <tr>\n",
       "      <th>0</th>\n",
       "      <td>Other Motor Vehicle, Collision With</td>\n",
       "      <td>77257</td>\n",
       "      <td>4.669558</td>\n",
       "    </tr>\n",
       "    <tr>\n",
       "      <th>1</th>\n",
       "      <td>Tree, Collision With Fixed Object</td>\n",
       "      <td>9578</td>\n",
       "      <td>0.578912</td>\n",
       "    </tr>\n",
       "    <tr>\n",
       "      <th>2</th>\n",
       "      <td>Earth Embankment/Rock Cut/Ditch, Collision Wit...</td>\n",
       "      <td>7912</td>\n",
       "      <td>0.478216</td>\n",
       "    </tr>\n",
       "    <tr>\n",
       "      <th>3</th>\n",
       "      <td>Guide Rail - Not At End, Collision With Fixed ...</td>\n",
       "      <td>7485</td>\n",
       "      <td>0.452407</td>\n",
       "    </tr>\n",
       "    <tr>\n",
       "      <th>4</th>\n",
       "      <td>Light Support/Utility Pole, Collision With Fix...</td>\n",
       "      <td>7246</td>\n",
       "      <td>0.437962</td>\n",
       "    </tr>\n",
       "  </tbody>\n",
       "</table>\n",
       "</div>"
      ],
      "text/plain": [
       "                                          Event Type  Count  percentage\n",
       "0                Other Motor Vehicle, Collision With  77257    4.669558\n",
       "1                  Tree, Collision With Fixed Object   9578    0.578912\n",
       "2  Earth Embankment/Rock Cut/Ditch, Collision Wit...   7912    0.478216\n",
       "3  Guide Rail - Not At End, Collision With Fixed ...   7485    0.452407\n",
       "4  Light Support/Utility Pole, Collision With Fix...   7246    0.437962"
      ]
     },
     "execution_count": 925,
     "metadata": {},
     "output_type": "execute_result"
    }
   ],
   "source": [
    "# Calculating number of columns with different values\n",
    "pct_NotApplicatble = round(df[(df[\"Event Type\"] == \"Not Applicable\")]['Event Type'].value_counts().sum()/df.shape[0]*100,2)\n",
    "pct_NotEntered = round(df[(df[\"Event Type\"] == \"Not Entered\")]['Event Type'].value_counts().sum()/df.shape[0]*100,2)\n",
    "pct_NaN = round(df[\"Event Type\"].isnull().sum()/df.shape[0]*100,2)\n",
    "\n",
    "print(\"Pct of columns with Event Types -Not Applicable- is: {}%\".format(pct_NotApplicatble))\n",
    "print(\"Pct of columns with Event Types -Not Entered- is: {}%\".format(pct_NotEntered))\n",
    "print(\"Pct of columns with Event Types NaN is: {}%\".format(pct_NaN))\n",
    "\n",
    "\n",
    "event_type_df = pd.DataFrame(df[(df[\"Event Type\"] != \"Not Applicable\") & (df[\"Event Type\"] != \"Not Entered\")]['Event Type'].value_counts().sort_values(ascending=False).copy())\n",
    "event_type_df.reset_index(inplace=True)\n",
    "event_type_df.columns = [\"Event Type\",\"Count\"]\n",
    "event_type_df[\"percentage\"] = event_type_df.apply(lambda row: row[\"Count\"]/df.shape[0]*100, axis=1)\n",
    "\n",
    "print(\"Pct of columns with an Event Type recorded: {}%\".format(round(event_type_df[\"percentage\"].sum(),2)))\n",
    "event_type_df.head()\n"
   ]
  },
  {
   "cell_type": "markdown",
   "metadata": {},
   "source": [
    "### Comments\n",
    "We see that the column \"Event Type\" is providing valuable information for less than 10% of the rows, and therefore this can be deleted. We also have other columns with name \"Contributing Factor...\" that can be used to describe the events.\n",
    "** TODO:\n",
    "* Drop column \"Event Type\""
   ]
  },
  {
   "cell_type": "markdown",
   "metadata": {},
   "source": [
    "### Cleaning\n",
    "\n",
    "\n",
    "Drop columns: \n",
    "* \"Case Vehicle ID\"\n",
    "* \"Partial VIN\"\n",
    "* \"Engine Cylinders\"\n",
    "* \"Fuel Type\" \n",
    "* \"Event Type\"\n"
   ]
  },
  {
   "cell_type": "code",
   "execution_count": 926,
   "metadata": {},
   "outputs": [],
   "source": [
    "# Clean data\n",
    "def drop_columns(p_df):\n",
    "    \"\"\"Drop columns that are not needed or not to be used in the analysis to come\"\"\"\n",
    "    p_df = p_df.drop(\"Case Vehicle ID\", axis=1)\n",
    "    p_df = p_df.drop(\"Partial VIN\", axis=1)\n",
    "    p_df = p_df.drop(\"Engine Cylinders\", axis=1)\n",
    "    p_df = p_df.drop(\"Fuel Type\", axis=1)\n",
    "    p_df = p_df.drop(\"Event Type\", axis=1)\n",
    "\n",
    "    return p_df"
   ]
  },
  {
   "cell_type": "code",
   "execution_count": 927,
   "metadata": {},
   "outputs": [],
   "source": [
    "df1 = drop_columns(df)"
   ]
  },
  {
   "cell_type": "code",
   "execution_count": null,
   "metadata": {},
   "outputs": [],
   "source": []
  },
  {
   "cell_type": "code",
   "execution_count": 928,
   "metadata": {},
   "outputs": [
    {
     "data": {
      "text/plain": [
       "(1654482, 14)"
      ]
     },
     "execution_count": 928,
     "metadata": {},
     "output_type": "execute_result"
    }
   ],
   "source": [
    "#Confirming the shape of the new DataFrame:\n",
    "df1.shape"
   ]
  },
  {
   "cell_type": "code",
   "execution_count": null,
   "metadata": {},
   "outputs": [],
   "source": [
    "# Checking the number of unique values in each column\n",
    "df1.nunique()"
   ]
  },
  {
   "cell_type": "code",
   "execution_count": null,
   "metadata": {},
   "outputs": [],
   "source": [
    "df1.isnull().sum()"
   ]
  },
  {
   "cell_type": "markdown",
   "metadata": {},
   "source": [
    "### Doing some more assessment\n",
    "Plan is to take a look at some of the most popular types of vehicles, and we should check of the \"Vehicle Make\" is coded correctly. First thing then is to get rid of the NaN values in this column, and we then choose to code these as \"unknown\":"
   ]
  },
  {
   "cell_type": "code",
   "execution_count": null,
   "metadata": {},
   "outputs": [],
   "source": [
    "# Counting the number of accidents grouped by Vehicle Make, sorting them and then picking the 30 most common makes.\n",
    "acci_vehi_top30 = df1.groupby(['Vehicle Make']).size().reset_index(name='counts').sort_values(by=\"counts\", ascending=False)[0:30].sum()\n",
    "\n",
    "\n",
    "print(\"30 most common vehicle makes account for {}% of all accidents\".format(round(acci_vehi_top30.counts / df1.shape[0] * 100, 2)))\n",
    "\n"
   ]
  },
  {
   "cell_type": "code",
   "execution_count": null,
   "metadata": {},
   "outputs": [],
   "source": [
    "# Replacing NaN-values in the column \"Vehicle Make\":\n",
    "\n",
    "df1[\"Vehicle Make\"].fillna(df1[\"Vehicle Make\"].replace(np.nan, \"unknown\"), inplace=True)\n"
   ]
  },
  {
   "cell_type": "code",
   "execution_count": null,
   "metadata": {},
   "outputs": [],
   "source": [
    "def clean_vehicle_codes( dataframe, synonyms, correct_vehicle_make ):\n",
    "    \"\"\"Replace vehicle synonyms with the one correct vehicle make, then return updated DataFrame\"\"\"\n",
    "    for synonym in synonyms:\n",
    "        dataframe['Vehicle Make'].replace(synonym, correct_vehicle_make, inplace=True)\n",
    "    return dataframe"
   ]
  },
  {
   "cell_type": "code",
   "execution_count": null,
   "metadata": {},
   "outputs": [],
   "source": [
    "#Making a check for TOYOTA:\n",
    "df1[df1[\"Vehicle Make\"].str.contains(\"TOY\")][\"Vehicle Make\"].unique()"
   ]
  },
  {
   "cell_type": "code",
   "execution_count": null,
   "metadata": {},
   "outputs": [],
   "source": [
    "#Cleaning data for TOYOTA:\n",
    "TOYOTA_synonyms = ('TOYOT', 'TOYT', 'TOYO', 'TOYTO', 'TOYOR', 'TOYOTA', 'TOYP', 'TOYOY', 'TOYUO', 'TOY', 'TOY.', 'TOYOA', 'TOYTA', 'TOYOZ')\n",
    "df1 = clean_vehicle_codes( df1, TOYOTA_synonyms, 'TOYOTA' )"
   ]
  },
  {
   "cell_type": "code",
   "execution_count": null,
   "metadata": {},
   "outputs": [],
   "source": [
    "#Making a check for BMW:\n",
    "df1[df1[\"Vehicle Make\"].str.contains(\"BMW\")][\"Vehicle Make\"].unique()\n"
   ]
  },
  {
   "cell_type": "code",
   "execution_count": null,
   "metadata": {},
   "outputs": [],
   "source": [
    "#Cleaning data for BMW:\n",
    "BMW_synonyms = ('BMW', 'BMWV', 'BMWNA')\n",
    "\n",
    "df1 = clean_vehicle_codes( df1, BMW_synonyms, 'BMW' )\n",
    "    "
   ]
  },
  {
   "cell_type": "code",
   "execution_count": null,
   "metadata": {},
   "outputs": [],
   "source": [
    "#Making a check for AUDI => Audi is ok:\n",
    "df1[df1[\"Vehicle Make\"].str.contains(\"AUD\")][\"Vehicle Make\"].unique()"
   ]
  },
  {
   "cell_type": "code",
   "execution_count": null,
   "metadata": {},
   "outputs": [],
   "source": [
    "#Making a check for CHEVROLET:\n",
    "df1[df1[\"Vehicle Make\"].str.contains(\"CHEV\")][\"Vehicle Make\"].unique()"
   ]
  },
  {
   "cell_type": "code",
   "execution_count": null,
   "metadata": {},
   "outputs": [],
   "source": [
    "#Cleaning data for Chevrolet:\n",
    "CHEVR_synonyms = ('CHEVR', 'CHEV', 'CHEVY', 'CHEVE', 'CHEVF', 'CHEVT')\n",
    "df1 = clean_vehicle_codes( df1, CHEVR_synonyms, 'CHEVR' )\n"
   ]
  },
  {
   "cell_type": "code",
   "execution_count": null,
   "metadata": {},
   "outputs": [],
   "source": [
    "#Making a check for Ford:\n",
    "df1[df1[\"Vehicle Make\"].str.contains(\"ORD\")][\"Vehicle Make\"].unique()"
   ]
  },
  {
   "cell_type": "code",
   "execution_count": null,
   "metadata": {},
   "outputs": [],
   "source": [
    "#Cleaning data for Ford:\n",
    "FORD_synonyms = ('FORD', 'RORD', 'FORDV', 'FORDT', 'FORDG', 'FORDF', 'FORDQ', 'FORDP', \n",
    "             'FRORD', 'FORDS', 'MORD', 'DORD', 'FORDU', 'FORDD')\n",
    "\n",
    "df1 = clean_vehicle_codes( df1, FORD_synonyms, 'FORD' )\n"
   ]
  },
  {
   "cell_type": "code",
   "execution_count": null,
   "metadata": {},
   "outputs": [],
   "source": [
    "#Checking data for Honda: \n",
    "print(list(df1[df1[\"Vehicle Make\"].str.contains(\"HON\")][\"Vehicle Make\"].unique()))\n"
   ]
  },
  {
   "cell_type": "code",
   "execution_count": null,
   "metadata": {},
   "outputs": [],
   "source": [
    "# Cleaning data for Honda\n",
    "HONDA_synonyms = ('HONDA', 'HOND', 'HHOND', 'HONDS', 'HONDQ', 'HON', 'HONA', 'HONSA') #Excluding 'ZHONG'\n",
    "\n",
    "df1 = clean_vehicle_codes( df1, HONDA_synonyms, 'HONDA' )\n"
   ]
  },
  {
   "cell_type": "code",
   "execution_count": null,
   "metadata": {},
   "outputs": [],
   "source": [
    "# Checking data for Subaru\n",
    "print(list(df1[df1[\"Vehicle Make\"].str.contains(\"SU\")][\"Vehicle Make\"].unique()))\n"
   ]
  },
  {
   "cell_type": "markdown",
   "metadata": {},
   "source": [
    "### Note\n",
    "The letters \"SU\" can be found in several car makes, and the correct car make for several of the synonyms (or typos) above are difficult to identify. Choose to stop here"
   ]
  },
  {
   "cell_type": "code",
   "execution_count": null,
   "metadata": {},
   "outputs": [],
   "source": [
    "df1[df1[\"Vehicle Make\"].str.contains(\"SU\")].groupby(['Vehicle Make']).size().reset_index(name='counts').sort_values(by=\"counts\", ascending=False)[0:10]"
   ]
  },
  {
   "cell_type": "markdown",
   "metadata": {},
   "source": [
    "### Some thoughts\n",
    "At this point, we see that the data in the column \"Vechile Make\" is not at all easy to clean. It looks as if these data originate from some free text source and that the people having entered this data do not follow any common guideline for how to register \"Vechile Make\". \n",
    "\n",
    "Above, an attempt was made to find variations of spelling of Subaru, and what we can see is that there are a lot of misspellings and that that is it difficult to conclude what the correct actually is.\n"
   ]
  },
  {
   "cell_type": "markdown",
   "metadata": {},
   "source": [
    "### About missing values \n",
    "Early, it was decided to use the column \"Vehicle Make\" as one of the key columns for analysis and the rows having NaN values had the text \"unknown\" added to this column. \n",
    "\n",
    "The other colums having NaN-values are: \n",
    "* State of Registration               (135907 rows)\n",
    "* Number of Occupants                 (191761 rows)\n",
    "* Contributing Factor 1               (    29 rows)\n",
    "* Contributing Factor 1 Description   (    29 rows)\n",
    "* Contributing Factor 2               (    28 rows)\n",
    "* Contributing Factor 2 Description   (    28 rows)\n",
    "\n",
    "As of now, we are not planning to use these columns, so NaN values are not deleted or replaced. If we at a later stage see the need to use these, we'll have to decide about how to treat the NaN values then.\n"
   ]
  },
  {
   "cell_type": "markdown",
   "metadata": {},
   "source": [
    "###  About categorical variables"
   ]
  },
  {
   "cell_type": "code",
   "execution_count": null,
   "metadata": {},
   "outputs": [],
   "source": [
    "# Checking categorical columns\n",
    "df1.nunique()"
   ]
  },
  {
   "cell_type": "markdown",
   "metadata": {},
   "source": [
    "Several of the columns are categorical columns. If we plan to use some Machine Learning techniques to analyse the data, we will have to choose what to do with these. \n",
    "\n",
    "We would then exclude or drop the columns not needed and apply onehot encoding to the others. This could lead to a very high number of columns for \"Vehicle Make\" especially, but also for other columns.\n",
    "\n",
    "The columns \"Contributing Factor 1 Description\" and \"Contributing Factor 2 Description\", have long decriptions so they will have to be handled with some extra care then.\n",
    "\n",
    "At the moment I don't see any special correlation between columns, apart from whats obvious as the number of vehicles per state thats less the further away from NYS you get and that number of accidents per \"Vehicle year\" are dropping with the increasing age of the vehicles involved. If I find that there could be some correlation that we do not see just now, we'll have to get back to handling categorical values.  \n",
    "\n"
   ]
  },
  {
   "cell_type": "code",
   "execution_count": null,
   "metadata": {},
   "outputs": [],
   "source": [
    "# Checking the vehicle makes with the most accidents, and calculating the percentage share of total accidents:\n",
    "df1_agg = df1['Vehicle Make'].value_counts().reset_index()\n",
    "df1_agg.columns = [\"Vehicle Make\",\"Number of vehicle crashes\"]\n",
    "df1_agg[\"percentage\"] = df1_agg.apply(lambda row: row['Number of vehicle crashes']/df1_agg['Number of vehicle crashes'].sum()*100, axis=1)\n",
    "df1_agg[0:40]\n",
    "\n",
    "# Of the known car makes, we see that Toyota is on top"
   ]
  },
  {
   "cell_type": "code",
   "execution_count": null,
   "metadata": {},
   "outputs": [],
   "source": []
  },
  {
   "cell_type": "code",
   "execution_count": null,
   "metadata": {},
   "outputs": [],
   "source": [
    "# Choose to create a list with the 30 on top Vehicle Makes, aiming to rename the rest as \"Other Makes\" \n",
    "make_list = list(df1_agg[\"Vehicle Make\"][0:30])\n"
   ]
  },
  {
   "cell_type": "code",
   "execution_count": null,
   "metadata": {},
   "outputs": [],
   "source": [
    "# Creating a new dataframe of the full dataset where Vehicle Makes not on the top 30 list are renamed to \"Other Makes\"\n",
    "df1_rename_make = df1.copy()\n",
    "df1_rename_make.loc[~df1_rename_make[\"Vehicle Make\"].isin(make_list), \"Vehicle Make\"] = \"Other Makes\""
   ]
  },
  {
   "cell_type": "code",
   "execution_count": null,
   "metadata": {},
   "outputs": [],
   "source": [
    "# Calculating the number of accidents per \"Vehicle Make\" and \"Action Prior to Accident\" in order to get a statistic\n",
    "# showing what sort of scenario that are most common leading up to accidents\n",
    "df2_agg = df1_rename_make.groupby(['Vehicle Make',\"Action Prior to Accident\"]).size().reset_index(name='counts').sort_values(by=\"counts\", ascending=False)\n",
    "\n",
    "# Calculating the percentage of \"Actions Prior to Accident\" for each \"Vehicle Make\"\n",
    "# Then we can compare the difference per vehicle make, in the situations before the accidents. \n",
    "df2_agg[\"percentage\"] = df2_agg.apply(lambda row: row['counts']/df2_agg[df2_agg[\"Vehicle Make\"]==row[\"Vehicle Make\"]]['counts'].sum()*100, axis=1)\n"
   ]
  },
  {
   "cell_type": "code",
   "execution_count": null,
   "metadata": {},
   "outputs": [],
   "source": [
    "# Adding another column to show the percentake of \"Actions Prior to accident\" for all makes.\n",
    "# Then the hope is to see if a given Vehicle Make is more involved in some scenarios than \n",
    "# others, compared to the average accross all accidents\n",
    "df2_agg[\"percentage share all accidents\"] = df2_agg.apply(lambda row: df2_agg[row[\"Action Prior to Accident\"]==df2_agg[\"Action Prior to Accident\"]][\"counts\"].sum() / df2_agg[\"counts\"].sum()*100, axis=1)"
   ]
  },
  {
   "cell_type": "code",
   "execution_count": null,
   "metadata": {},
   "outputs": [],
   "source": [
    "# Showing the top of the list with respect to accident counts and situation before accident\n",
    "df2_agg.sort_values(by=\"counts\", ascending=False).head()\n",
    "\n",
    "# Of the known car makes, we see that Toyota is on top"
   ]
  },
  {
   "cell_type": "code",
   "execution_count": null,
   "metadata": {},
   "outputs": [],
   "source": [
    "df2_agg.sort_values(by=\"percentage\", ascending=False).tail()\n"
   ]
  },
  {
   "cell_type": "markdown",
   "metadata": {},
   "source": [
    "# Question #1\n",
    "### What's the most common \"Action prior to accident\"?"
   ]
  },
  {
   "cell_type": "code",
   "execution_count": null,
   "metadata": {},
   "outputs": [],
   "source": [
    "#Calculating the number of accidents grouped by \"Action Prior to Accident\" \n",
    "df_action_prior_to_acci = df2_agg.groupby([\"Action Prior to Accident\"])[\"counts\"].sum().reset_index().sort_values(by=\"counts\", ascending=False).copy()\n",
    "df_action_prior_to_acci_top_15 = df_action_prior_to_acci[0:15]\n",
    "\n",
    "# Creating the data to plot\n",
    "labels = df_action_prior_to_acci_top_15[\"Action Prior to Accident\"] \n",
    "sizes = df_action_prior_to_acci_top_15[\"counts\"] #[215, 130, 245, 210]\n",
    "explode = (0.1, 0.13, 0.16, 0.19, 0.24,0.4,0.6,0.7,0.8,0.9,0.95,1,1,1,1)  \n",
    " \n",
    "# Plot\n",
    "fig = plt.figure(figsize=[15, 15])\n",
    "ax = fig.add_subplot(111)\n",
    "\n",
    "dummy = plt.pie(sizes, explode=explode, labels=labels, labeldistance=1.1, textprops={'fontsize': 16}, #radius=300,\n",
    "        autopct='%1.1f%%', shadow=True, startangle=0)\n",
    "\n",
    "plt.axis('equal')\n",
    "plt.show()"
   ]
  },
  {
   "cell_type": "code",
   "execution_count": null,
   "metadata": {},
   "outputs": [],
   "source": []
  },
  {
   "cell_type": "code",
   "execution_count": null,
   "metadata": {},
   "outputs": [],
   "source": [
    "# We see that the most common sitation just before accidents are \"Going straight ahead\", followed \n",
    "# by \"Stopping in Traffic\" and then \"Making left turn\""
   ]
  },
  {
   "cell_type": "code",
   "execution_count": null,
   "metadata": {
    "scrolled": true
   },
   "outputs": [],
   "source": [
    "\n",
    "# Looking at the numbers for TOYOTA\n",
    "df2_agg[(df2_agg[\"Vehicle Make\"].str.contains(\"TOYO\"))] #[\"percentage\"].sum()"
   ]
  },
  {
   "cell_type": "code",
   "execution_count": null,
   "metadata": {},
   "outputs": [],
   "source": [
    "# Looking at the numbers for BMW\n",
    "df2_agg[(df2_agg[\"Vehicle Make\"].str.contains(\"BMW\"))]#[\"percentage\"].sum()"
   ]
  },
  {
   "cell_type": "code",
   "execution_count": null,
   "metadata": {},
   "outputs": [],
   "source": [
    "# Looking at the numbers for CHEVROLET\n",
    "df2_agg[(df2_agg[\"Vehicle Make\"].str.contains(\"CHE\"))]#[\"percentage\"].sum()"
   ]
  },
  {
   "cell_type": "code",
   "execution_count": null,
   "metadata": {},
   "outputs": [],
   "source": [
    "# Looking at the numbers for AUDI\n",
    "df2_agg[(df2_agg[\"Vehicle Make\"].str.contains(\"AUDI\"))]#[\"percentage\"].sum()\n"
   ]
  },
  {
   "cell_type": "code",
   "execution_count": null,
   "metadata": {},
   "outputs": [],
   "source": [
    "# Creating a new column showing the gap from average, grouped by vehicle make and action prior to accident\n",
    "df2_agg[\"gap from avg all\"] = df2_agg[\"percentage\"]/df2_agg[\"percentage share all accidents\"]*100 - 100\n",
    "\n",
    "# A negative gap percentage, means that the number of accidents this care make accounts for in this situation is below average\n",
    "# A positive gap percentage means the oposite "
   ]
  },
  {
   "cell_type": "markdown",
   "metadata": {},
   "source": [
    "# Question #2\n",
    "### Can we say anything about vehicle make and accidents happening after Police Pursuits?"
   ]
  },
  {
   "cell_type": "code",
   "execution_count": null,
   "metadata": {},
   "outputs": [],
   "source": [
    "# Making a calculation of accidents per vehicle make, after police pursuits\n",
    "# The numbers are low, so choice is made to show only makes with more than 10 accidents.\n",
    "df2_agg_police_pursuit = df2_agg[(df2_agg[\"Vehicle Make\"]!=\"unknown\") & \n",
    "                                 (df2_agg[\"Vehicle Make\"]!=\"Other Makes\") & \n",
    "                                 (df2_agg[\"counts\"] > 10) &\n",
    "                                 (df2_agg[\"Action Prior to Accident\"] != \"Not Applicable\") & \n",
    "                                 (df2_agg[\"Action Prior to Accident\"] != \"Unknown\") & \n",
    "                                 (df2_agg[\"Action Prior to Accident\"].str.contains(\"Police\"))\n",
    "                                ].sort_values(by=\"gap from avg all\", ascending=False).copy()\n",
    "\n",
    "df2_agg_police_pursuit"
   ]
  },
  {
   "cell_type": "code",
   "execution_count": null,
   "metadata": {},
   "outputs": [],
   "source": [
    "#Plotting the numbers:\n",
    "x = df2_agg_police_pursuit.groupby('Vehicle Make')['gap from avg all'].sum().sort_values() #.tail(15)\n",
    "x.plot(kind=\"barh\", title='Pct of collitions for vehicle make after Police Pursuit compared to average' );"
   ]
  },
  {
   "cell_type": "markdown",
   "metadata": {},
   "source": [
    "\n",
    "I have calculated the average number of accidents per \"Action prior to Accident\", and one of these prior actions are \"Police Pursuit\" as shown. What we see is that less than 0.03% of accidents come after a police pursuit, so the numbers are low.\n",
    "I have also calculate the average percentage of accidents after \"Police Pursuit\" for each car make, and set a level of minimum 10 accidents to be part of this small statistic in order to look for any pattern or finding.\n",
    "\n",
    "As we don't know the total number of cars on the road for each care make, we can't say much about the popularity of a car used to get away from the police, but we can see that there are some deviations from the average.\n",
    "\n",
    "The numnber of accidents after a police pursuit is way higher for American cars than Japanese cars. There are probably several explanations for this, but one could be that japanese are less popular among the type of people that end up in situations where they try to escape the police. Another reason might be that American cars are more difficult to control and therefore end up in more accidents.\n"
   ]
  },
  {
   "cell_type": "markdown",
   "metadata": {},
   "source": [
    "# Question #3\n",
    "### Can we find any support for the rumors about BMW drivers not using blinkers?\n",
    "\n",
    "Ever heard this?\n",
    "**\"If you ever feel useless - Remember that somebody's job is to install turn signal systems at BMW\"**\n",
    "\n",
    "Rumors has it that BMW drivers are not using the blinkers - at least less than the average driver. If this is true, my theory is that we should be able to find a higher share of BMW's involved in accidents where turn signals should have been used - and blinkers is to be used when making turns.\n"
   ]
  },
  {
   "cell_type": "code",
   "execution_count": null,
   "metadata": {},
   "outputs": [],
   "source": [
    "# Listing the known car types where number of accidents are higher than 1000 for the period for actions prior to \n",
    "# accident involving left- or U-turn (We are then ignoring \"Right turn\")  \n",
    "\n",
    "df_left_turn_acci = df2_agg[(df2_agg[\"Vehicle Make\"]!=\"unknown\") & \n",
    "        (df2_agg[\"Vehicle Make\"]!=\"Other Makes\") & \n",
    "        (df2_agg[\"counts\"] > 1000) & \n",
    "        (df2_agg[\"Action Prior to Accident\"] != \"Not Applicable\") & \n",
    "        (df2_agg[\"Action Prior to Accident\"] != \"Unknown\") & \n",
    "        (df2_agg[\"Action Prior to Accident\"].str.contains(\"Turn\")) &\n",
    "        (~df2_agg[\"Action Prior to Accident\"].str.contains(\"Right\"))\n",
    "       ].sort_values(by=\"gap from avg all\", ascending=False).copy()\n",
    "    \n",
    "df_left_turn_acci"
   ]
  },
  {
   "cell_type": "code",
   "execution_count": null,
   "metadata": {},
   "outputs": [],
   "source": [
    "plt.barh(df_left_turn_acci[\"Vehicle Make\"],df_left_turn_acci[\"percentage\"])\n",
    "plt.xlabel(\"% of all accidents per car make\",color=\"green\")\n",
    "plt.ylabel(\"Car Make\",color=\"blue\")\n",
    "plt.title(\"% of accidents per car Make after making U or left turn\",color=\"green\")\n",
    "#plt.figsize=(12,8)\n",
    "plt.figsize=(24,16)\n",
    "plt.axvline(x=7.646925,color=\"red\")\n",
    "plt.show()"
   ]
  },
  {
   "cell_type": "markdown",
   "metadata": {},
   "source": [
    "\n",
    "Well, from the bar-chart and the numbers, we cannot conclude that there the theory is true. We see that the BMW's share of accidents after making U or left turns are less than avarage. The first thought is then that the average BMW driver is better than average in making U and left turns, but off course it could be that other drivers pay some extra attention when a BMW is in sight - if they expect them not to use the blinker...  \n"
   ]
  },
  {
   "cell_type": "code",
   "execution_count": null,
   "metadata": {},
   "outputs": [],
   "source": [
    "# Quick check for situations where lane change was done prior to the accident:\n",
    "df_chg_lane_acci = df2_agg[(df2_agg[\"Vehicle Make\"]!=\"unknown\") & \n",
    "        (df2_agg[\"Vehicle Make\"]!=\"Other Makes\") & \n",
    "        (df2_agg[\"counts\"] > 500) & \n",
    "        (df2_agg[\"Action Prior to Accident\"] != \"Not Applicable\") & \n",
    "        (df2_agg[\"Action Prior to Accident\"] != \"Unknown\") & \n",
    "        (df2_agg[\"Action Prior to Accident\"].str.contains(\"Changing Lanes\")) &\n",
    "        (~df2_agg[\"Action Prior to Accident\"].str.contains(\"Right\"))\n",
    "       ].sort_values(by=\"gap from avg all\", ascending=False).copy()\n",
    "    \n",
    "df_chg_lane_acci"
   ]
  },
  {
   "cell_type": "markdown",
   "metadata": {},
   "source": [
    "### Well...\n",
    "Calculating the number of accidents when changing lanes shows that BMW has a higher share than average, so maybe there is something in the rumors?"
   ]
  },
  {
   "cell_type": "markdown",
   "metadata": {},
   "source": [
    "# Question #4\n",
    "### Do these data from the State of New York have the necessary quality to be used for analysis of traffic accidents?\n",
    "\n",
    "\n",
    "  - Several columns are missing data, and we cannot assume what the correct values or text should be. The choice then would be to remove the rows of data, and the columns with most NaN values, but then we risk being left with a really biased dataset.\n",
    "  - Column \"Vehicle Body Type\", a mix of things, most of them with wheels, but also 2.7% pedestrians and then almost 6% or 100000 rows indicating \"unknown wehicle\"s.\n",
    "  - Column \"Registration Class\" has about 21% \"Not entered\". Why this is so, I am not sure, but maybe because data actually is a mix of accidents of both vehicles and humans. Still this does not explain 21%, and I wonder why, since vehicle registration data should be easy to import when you have the registration details of the vehicles. That should really make an improvement of the data quality.\n",
    "  - Data in the column \"Vehicle Make\" contains a lot of misspellings and interresting choices of wording. Also these data should be easy to import with much higher quality when you have the registration details of the vehicles. \n",
    "  - 15% of the rows for Vehicle Year are missing data, 8% of the rows for \"State of registration\" are missing data and so on. I think such data should be available from other sources so that the quality of the data could be higher.\n",
    "  \n",
    "### Conclusion:\n",
    "\n",
    "It is possible that these data are supposed to be a mix of free text data and categorical data like this, but I think the people making these registrations and compiling these data have a pretty good potential for improving the quality. HSE (Health, Security and Environment) is important in modern societies, and especially in areas like transportation and logistics. A lot of investments are made in improving security and reducing the risk of accidents, and then high quality data are required to further understand where the challenges and potentials are. \n",
    "\n",
    "I assume the statistics used by the officials are based on subsets of these data where data have a higher quality than what I found here."
   ]
  },
  {
   "cell_type": "markdown",
   "metadata": {},
   "source": [
    ".\n",
    ".\n",
    ".\n",
    ".\n",
    ".\n",
    "(Additional assessment of data below)"
   ]
  },
  {
   "cell_type": "code",
   "execution_count": null,
   "metadata": {},
   "outputs": [],
   "source": [
    "df.isnull().sum()\n"
   ]
  },
  {
   "cell_type": "code",
   "execution_count": null,
   "metadata": {},
   "outputs": [],
   "source": [
    "df[\"Vehicle Body Type\"].fillna(\"NaN\").value_counts(normalize=True).reset_index()[0:10]"
   ]
  },
  {
   "cell_type": "code",
   "execution_count": null,
   "metadata": {},
   "outputs": [],
   "source": [
    "df[\"Registration Class\"].fillna(\"NaN\").value_counts(normalize=True).reset_index()[0:10]"
   ]
  },
  {
   "cell_type": "code",
   "execution_count": null,
   "metadata": {},
   "outputs": [],
   "source": [
    "df[\"Fuel Type\"].fillna(\"NaN\").value_counts(normalize=True).reset_index()[0:10]"
   ]
  },
  {
   "cell_type": "code",
   "execution_count": null,
   "metadata": {},
   "outputs": [],
   "source": [
    "df['Direction of Travel'].fillna(\"NaN\").value_counts().reset_index()"
   ]
  },
  {
   "cell_type": "code",
   "execution_count": null,
   "metadata": {},
   "outputs": [],
   "source": [
    "df['Engine Cylinders'].fillna(\"NaN\").value_counts().reset_index()"
   ]
  },
  {
   "cell_type": "code",
   "execution_count": null,
   "metadata": {},
   "outputs": [],
   "source": [
    "df[\"Vehicle Year\"].fillna(\"NaN\").value_counts(normalize=True).reset_index()[0:10]"
   ]
  },
  {
   "cell_type": "code",
   "execution_count": null,
   "metadata": {},
   "outputs": [],
   "source": [
    "df[\"State of Registration\"].fillna(\"NaN\").value_counts(normalize=True).reset_index()[0:10]"
   ]
  },
  {
   "cell_type": "code",
   "execution_count": null,
   "metadata": {},
   "outputs": [],
   "source": []
  },
  {
   "cell_type": "code",
   "execution_count": null,
   "metadata": {},
   "outputs": [],
   "source": [
    "df['Contributing Factor 1'].value_counts().reset_index()\n"
   ]
  },
  {
   "cell_type": "code",
   "execution_count": null,
   "metadata": {},
   "outputs": [],
   "source": [
    "df[\"Contributing Factor 1 Description\"].value_counts().reset_index()[0:10]"
   ]
  },
  {
   "cell_type": "code",
   "execution_count": null,
   "metadata": {},
   "outputs": [],
   "source": [
    "df['Contributing Factor 2'].value_counts().reset_index()\n"
   ]
  },
  {
   "cell_type": "code",
   "execution_count": null,
   "metadata": {},
   "outputs": [],
   "source": [
    "df[\"Contributing Factor 2 Description\"].value_counts().reset_index()[0:10]"
   ]
  },
  {
   "cell_type": "code",
   "execution_count": null,
   "metadata": {},
   "outputs": [],
   "source": [
    "\n"
   ]
  },
  {
   "cell_type": "code",
   "execution_count": null,
   "metadata": {},
   "outputs": [],
   "source": []
  },
  {
   "cell_type": "code",
   "execution_count": null,
   "metadata": {},
   "outputs": [],
   "source": []
  }
 ],
 "metadata": {
  "kernelspec": {
   "display_name": "Python 3",
   "language": "python",
   "name": "python3"
  }
 },
 "nbformat": 4,
 "nbformat_minor": 2
}
